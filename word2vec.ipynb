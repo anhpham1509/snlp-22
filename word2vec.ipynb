{
 "cells": [
  {
   "cell_type": "code",
   "execution_count": 1,
   "id": "e8c1808e",
   "metadata": {},
   "outputs": [],
   "source": [
    "# Importing libraries:\n",
    "\n",
    "import pandas as pd\n",
    "import numpy as np\n",
    "import re\n",
    "import gensim\n",
    "import gensim.downloader as api\n",
    "from gensim.models import KeyedVectors\n",
    "from gensim.models import Word2Vec\n",
    "import nltk\n",
    "\n",
    "import ssl\n",
    "\n",
    "try:\n",
    "    _create_unverified_https_context = ssl._create_unverified_context\n",
    "except AttributeError:\n",
    "    pass\n",
    "else:\n",
    "    ssl._create_default_https_context = _create_unverified_https_context\n",
    "\n",
    "import nltk\n",
    "\n",
    "nltk.download('punkt', quiet=True)\n",
    "\n",
    "from nltk.tokenize import sent_tokenize\n",
    "from nltk.corpus import stopwords\n",
    "\n",
    "nltk.download('stopwords', quiet=True)\n",
    "\n",
    "from sklearn.metrics.pairwise import cosine_similarity"
   ]
  },
  {
   "cell_type": "code",
   "execution_count": 2,
   "id": "35014f03",
   "metadata": {},
   "outputs": [
    {
     "name": "stdout",
     "output_type": "stream",
     "text": [
      "32269\n"
     ]
    },
    {
     "name": "stderr",
     "output_type": "stream",
     "text": [
      "/opt/software/lib/python3.9/site-packages/IPython/core/interactiveshell.py:3457: DtypeWarning: Columns (10) have mixed types.Specify dtype option on import or set low_memory=False.\n",
      "  exec(code_obj, self.user_global_ns, self.user_ns)\n"
     ]
    }
   ],
   "source": [
    "# Loading the data: \n",
    "\n",
    "BASE_PATH = \"./dataset/\"\n",
    "# load dataset\n",
    "df_metadata = pd.read_csv(BASE_PATH + \"movies_metadata.csv\")\n",
    "# filter columns\n",
    "metadata_cols = [\"id\", \"title\", \"overview\", \"tagline\", \"genres\", \"original_language\", \"poster_path\"]\n",
    "df_metadata = df_metadata[metadata_cols]\n",
    "# filter language\n",
    "in_english = df_metadata[\"original_language\"] == \"en\"\n",
    "df_metadata_en = df_metadata[in_english]\n",
    "df_metadata_en = df_metadata_en[[col for col in metadata_cols if col != \"original_language\"]]\n",
    "\n",
    "print(len(df_metadata_en[\"overview\"]))\n",
    "\n",
    "\n",
    "overviews = []\n",
    "for row in df_metadata_en[\"overview\"]:\n",
    "    overviews.append(str(row))\n",
    "\n",
    "#print(len(overviews))\n",
    "\n",
    "titles = []\n",
    "for row in df_metadata_en[\"title\"]:\n",
    "    titles.append(str(row))\n"
   ]
  },
  {
   "cell_type": "code",
   "execution_count": 3,
   "id": "c339aad1",
   "metadata": {},
   "outputs": [],
   "source": [
    "# Text cleaning / tokenizing finctions:\n",
    "\n",
    "def remove_non_ascii(textstring):\n",
    "    \"\"\"This function removes non-ASCII characters from the text string\"\"\"\n",
    "    return \"\".join(i for i in textstring if ord(i) < 128)\n",
    "\n",
    "\n",
    "def tokenize_and_lowercase(textstring):\n",
    "    \"\"\"This function tokenizes the text string into lowercased tokens with Regex Tokenizer\"\"\"\n",
    "    tokens = []\n",
    "    tokenized_into_sentences = sent_tokenize(textstring)\n",
    "    for e in tokenized_into_sentences:\n",
    "        regex_tokenizer = re.compile(\"\\w+[-'.]\\w+|\\w+\")  # tokenizer removes whitespaces and punctuation\n",
    "        tokenized = re.findall(regex_tokenizer, e)\n",
    "        for e in tokenized:\n",
    "            tokens.append(e.lower())\n",
    "    return tokens\n",
    "\n",
    "\n",
    "def remove_stop_words(tokenized_text, stop_words):\n",
    "    \"\"\"This function removes stop words from lowercased tokenized text\"\"\"\n",
    "    clean_text = [x for x in tokenized_text if x not in stop_words]\n",
    "    return clean_text\n"
   ]
  },
  {
   "cell_type": "code",
   "execution_count": 4,
   "id": "133eb792",
   "metadata": {},
   "outputs": [],
   "source": [
    "# Cleaning the movie overviews:\n",
    "\n",
    "stop_words = set(stopwords.words(\"english\"))  # setting the list of stopwords to get rid of\n",
    "clean_overviews = []\n",
    "\n",
    "for overview in overviews:\n",
    "    overview_ascii = remove_non_ascii(overview)\n",
    "    overview_tokenized_and_lowercased = tokenize_and_lowercase(overview_ascii)\n",
    "    overview_clean = remove_stop_words(overview_tokenized_and_lowercased, stop_words)\n",
    "    clean_overviews.append(overview_clean)\n",
    "\n"
   ]
  },
  {
   "cell_type": "code",
   "execution_count": 5,
   "id": "65487a06",
   "metadata": {},
   "outputs": [
    {
     "name": "stdout",
     "output_type": "stream",
     "text": [
      "32269\n"
     ]
    }
   ],
   "source": [
    "# Examples of output:\n",
    "\n",
    "print(len(clean_overviews))"
   ]
  },
  {
   "cell_type": "code",
   "execution_count": 6,
   "id": "94c92a37",
   "metadata": {},
   "outputs": [
    {
     "name": "stdout",
     "output_type": "stream",
     "text": [
      "['james', 'bond', 'must', 'unmask', 'mysterious', 'head', 'janus', 'syndicate', 'prevent', 'leader', 'utilizing', 'goldeneye', 'weapons', 'system', 'inflict', 'devastating', 'revenge', 'britain']\n",
      "32269\n"
     ]
    }
   ],
   "source": [
    "# Making a corpus from overviews:\n",
    "\n",
    "corpus = clean_overviews\n",
    "print(corpus[9])\n",
    "print(len(corpus))\n"
   ]
  },
  {
   "cell_type": "code",
   "execution_count": 7,
   "id": "de7e9847",
   "metadata": {},
   "outputs": [
    {
     "name": "stdout",
     "output_type": "stream",
     "text": [
      "[--------------------------------------------------] 1.4% 23.4/1662.8MB downloaded"
     ]
    },
    {
     "name": "stderr",
     "output_type": "stream",
     "text": [
      "IOPub message rate exceeded.\n",
      "The notebook server will temporarily stop sending output\n",
      "to the client in order to avoid crashing it.\n",
      "To change this limit, set the config variable\n",
      "`--NotebookApp.iopub_msg_rate_limit`.\n",
      "\n",
      "Current values:\n",
      "NotebookApp.iopub_msg_rate_limit=1000.0 (msgs/sec)\n",
      "NotebookApp.rate_limit_window=3.0 (secs)\n",
      "\n"
     ]
    },
    {
     "name": "stdout",
     "output_type": "stream",
     "text": [
      "[=-------------------------------------------------] 3.8% 63.4/1662.8MB downloaded"
     ]
    },
    {
     "name": "stderr",
     "output_type": "stream",
     "text": [
      "IOPub message rate exceeded.\n",
      "The notebook server will temporarily stop sending output\n",
      "to the client in order to avoid crashing it.\n",
      "To change this limit, set the config variable\n",
      "`--NotebookApp.iopub_msg_rate_limit`.\n",
      "\n",
      "Current values:\n",
      "NotebookApp.iopub_msg_rate_limit=1000.0 (msgs/sec)\n",
      "NotebookApp.rate_limit_window=3.0 (secs)\n",
      "\n"
     ]
    },
    {
     "name": "stdout",
     "output_type": "stream",
     "text": [
      "[===-----------------------------------------------] 6.0% 99.8/1662.8MB downloaded"
     ]
    },
    {
     "name": "stderr",
     "output_type": "stream",
     "text": [
      "IOPub message rate exceeded.\n",
      "The notebook server will temporarily stop sending output\n",
      "to the client in order to avoid crashing it.\n",
      "To change this limit, set the config variable\n",
      "`--NotebookApp.iopub_msg_rate_limit`.\n",
      "\n",
      "Current values:\n",
      "NotebookApp.iopub_msg_rate_limit=1000.0 (msgs/sec)\n",
      "NotebookApp.rate_limit_window=3.0 (secs)\n",
      "\n"
     ]
    },
    {
     "name": "stdout",
     "output_type": "stream",
     "text": [
      "[====----------------------------------------------] 9.1% 152.0/1662.8MB downloaded"
     ]
    },
    {
     "name": "stderr",
     "output_type": "stream",
     "text": [
      "IOPub message rate exceeded.\n",
      "The notebook server will temporarily stop sending output\n",
      "to the client in order to avoid crashing it.\n",
      "To change this limit, set the config variable\n",
      "`--NotebookApp.iopub_msg_rate_limit`.\n",
      "\n",
      "Current values:\n",
      "NotebookApp.iopub_msg_rate_limit=1000.0 (msgs/sec)\n",
      "NotebookApp.rate_limit_window=3.0 (secs)\n",
      "\n"
     ]
    },
    {
     "name": "stdout",
     "output_type": "stream",
     "text": [
      "[======--------------------------------------------] 12.1% 201.6/1662.8MB downloaded"
     ]
    },
    {
     "name": "stderr",
     "output_type": "stream",
     "text": [
      "IOPub message rate exceeded.\n",
      "The notebook server will temporarily stop sending output\n",
      "to the client in order to avoid crashing it.\n",
      "To change this limit, set the config variable\n",
      "`--NotebookApp.iopub_msg_rate_limit`.\n",
      "\n",
      "Current values:\n",
      "NotebookApp.iopub_msg_rate_limit=1000.0 (msgs/sec)\n",
      "NotebookApp.rate_limit_window=3.0 (secs)\n",
      "\n"
     ]
    },
    {
     "name": "stdout",
     "output_type": "stream",
     "text": [
      "[=======-------------------------------------------] 15.1% 251.9/1662.8MB downloaded"
     ]
    },
    {
     "name": "stderr",
     "output_type": "stream",
     "text": [
      "IOPub message rate exceeded.\n",
      "The notebook server will temporarily stop sending output\n",
      "to the client in order to avoid crashing it.\n",
      "To change this limit, set the config variable\n",
      "`--NotebookApp.iopub_msg_rate_limit`.\n",
      "\n",
      "Current values:\n",
      "NotebookApp.iopub_msg_rate_limit=1000.0 (msgs/sec)\n",
      "NotebookApp.rate_limit_window=3.0 (secs)\n",
      "\n"
     ]
    },
    {
     "name": "stdout",
     "output_type": "stream",
     "text": [
      "[=========-----------------------------------------] 18.2% 303.0/1662.8MB downloaded"
     ]
    },
    {
     "name": "stderr",
     "output_type": "stream",
     "text": [
      "IOPub message rate exceeded.\n",
      "The notebook server will temporarily stop sending output\n",
      "to the client in order to avoid crashing it.\n",
      "To change this limit, set the config variable\n",
      "`--NotebookApp.iopub_msg_rate_limit`.\n",
      "\n",
      "Current values:\n",
      "NotebookApp.iopub_msg_rate_limit=1000.0 (msgs/sec)\n",
      "NotebookApp.rate_limit_window=3.0 (secs)\n",
      "\n"
     ]
    },
    {
     "name": "stdout",
     "output_type": "stream",
     "text": [
      "[==========----------------------------------------] 21.3% 355.0/1662.8MB downloaded"
     ]
    },
    {
     "name": "stderr",
     "output_type": "stream",
     "text": [
      "IOPub message rate exceeded.\n",
      "The notebook server will temporarily stop sending output\n",
      "to the client in order to avoid crashing it.\n",
      "To change this limit, set the config variable\n",
      "`--NotebookApp.iopub_msg_rate_limit`.\n",
      "\n",
      "Current values:\n",
      "NotebookApp.iopub_msg_rate_limit=1000.0 (msgs/sec)\n",
      "NotebookApp.rate_limit_window=3.0 (secs)\n",
      "\n"
     ]
    },
    {
     "name": "stdout",
     "output_type": "stream",
     "text": [
      "[============--------------------------------------] 24.6% 408.7/1662.8MB downloaded"
     ]
    },
    {
     "name": "stderr",
     "output_type": "stream",
     "text": [
      "IOPub message rate exceeded.\n",
      "The notebook server will temporarily stop sending output\n",
      "to the client in order to avoid crashing it.\n",
      "To change this limit, set the config variable\n",
      "`--NotebookApp.iopub_msg_rate_limit`.\n",
      "\n",
      "Current values:\n",
      "NotebookApp.iopub_msg_rate_limit=1000.0 (msgs/sec)\n",
      "NotebookApp.rate_limit_window=3.0 (secs)\n",
      "\n"
     ]
    },
    {
     "name": "stdout",
     "output_type": "stream",
     "text": [
      "[==================--------------------------------] 37.0% 615.4/1662.8MB downloaded"
     ]
    },
    {
     "name": "stderr",
     "output_type": "stream",
     "text": [
      "IOPub message rate exceeded.\n",
      "The notebook server will temporarily stop sending output\n",
      "to the client in order to avoid crashing it.\n",
      "To change this limit, set the config variable\n",
      "`--NotebookApp.iopub_msg_rate_limit`.\n",
      "\n",
      "Current values:\n",
      "NotebookApp.iopub_msg_rate_limit=1000.0 (msgs/sec)\n",
      "NotebookApp.rate_limit_window=3.0 (secs)\n",
      "\n"
     ]
    },
    {
     "name": "stdout",
     "output_type": "stream",
     "text": [
      "[===================-------------------------------] 38.2% 635.2/1662.8MB downloaded"
     ]
    },
    {
     "name": "stderr",
     "output_type": "stream",
     "text": [
      "IOPub message rate exceeded.\n",
      "The notebook server will temporarily stop sending output\n",
      "to the client in order to avoid crashing it.\n",
      "To change this limit, set the config variable\n",
      "`--NotebookApp.iopub_msg_rate_limit`.\n",
      "\n",
      "Current values:\n",
      "NotebookApp.iopub_msg_rate_limit=1000.0 (msgs/sec)\n",
      "NotebookApp.rate_limit_window=3.0 (secs)\n",
      "\n"
     ]
    },
    {
     "name": "stdout",
     "output_type": "stream",
     "text": [
      "[===================-------------------------------] 39.1% 650.1/1662.8MB downloaded"
     ]
    },
    {
     "name": "stderr",
     "output_type": "stream",
     "text": [
      "IOPub message rate exceeded.\n",
      "The notebook server will temporarily stop sending output\n",
      "to the client in order to avoid crashing it.\n",
      "To change this limit, set the config variable\n",
      "`--NotebookApp.iopub_msg_rate_limit`.\n",
      "\n",
      "Current values:\n",
      "NotebookApp.iopub_msg_rate_limit=1000.0 (msgs/sec)\n",
      "NotebookApp.rate_limit_window=3.0 (secs)\n",
      "\n"
     ]
    },
    {
     "name": "stdout",
     "output_type": "stream",
     "text": [
      "[====================------------------------------] 41.2% 685.0/1662.8MB downloaded"
     ]
    },
    {
     "name": "stderr",
     "output_type": "stream",
     "text": [
      "IOPub message rate exceeded.\n",
      "The notebook server will temporarily stop sending output\n",
      "to the client in order to avoid crashing it.\n",
      "To change this limit, set the config variable\n",
      "`--NotebookApp.iopub_msg_rate_limit`.\n",
      "\n",
      "Current values:\n",
      "NotebookApp.iopub_msg_rate_limit=1000.0 (msgs/sec)\n",
      "NotebookApp.rate_limit_window=3.0 (secs)\n",
      "\n"
     ]
    },
    {
     "name": "stdout",
     "output_type": "stream",
     "text": [
      "[======================----------------------------] 44.4% 738.6/1662.8MB downloaded"
     ]
    },
    {
     "name": "stderr",
     "output_type": "stream",
     "text": [
      "IOPub message rate exceeded.\n",
      "The notebook server will temporarily stop sending output\n",
      "to the client in order to avoid crashing it.\n",
      "To change this limit, set the config variable\n",
      "`--NotebookApp.iopub_msg_rate_limit`.\n",
      "\n",
      "Current values:\n",
      "NotebookApp.iopub_msg_rate_limit=1000.0 (msgs/sec)\n",
      "NotebookApp.rate_limit_window=3.0 (secs)\n",
      "\n"
     ]
    },
    {
     "name": "stdout",
     "output_type": "stream",
     "text": [
      "[=======================---------------------------] 46.3% 769.7/1662.8MB downloaded"
     ]
    },
    {
     "name": "stderr",
     "output_type": "stream",
     "text": [
      "IOPub message rate exceeded.\n",
      "The notebook server will temporarily stop sending output\n",
      "to the client in order to avoid crashing it.\n",
      "To change this limit, set the config variable\n",
      "`--NotebookApp.iopub_msg_rate_limit`.\n",
      "\n",
      "Current values:\n",
      "NotebookApp.iopub_msg_rate_limit=1000.0 (msgs/sec)\n",
      "NotebookApp.rate_limit_window=3.0 (secs)\n",
      "\n"
     ]
    },
    {
     "name": "stdout",
     "output_type": "stream",
     "text": [
      "[========================--------------------------] 48.1% 800.6/1662.8MB downloaded"
     ]
    },
    {
     "name": "stderr",
     "output_type": "stream",
     "text": [
      "IOPub message rate exceeded.\n",
      "The notebook server will temporarily stop sending output\n",
      "to the client in order to avoid crashing it.\n",
      "To change this limit, set the config variable\n",
      "`--NotebookApp.iopub_msg_rate_limit`.\n",
      "\n",
      "Current values:\n",
      "NotebookApp.iopub_msg_rate_limit=1000.0 (msgs/sec)\n",
      "NotebookApp.rate_limit_window=3.0 (secs)\n",
      "\n"
     ]
    },
    {
     "name": "stdout",
     "output_type": "stream",
     "text": [
      "[=============================---------------------] 59.8% 994.6/1662.8MB downloaded"
     ]
    },
    {
     "name": "stderr",
     "output_type": "stream",
     "text": [
      "IOPub message rate exceeded.\n",
      "The notebook server will temporarily stop sending output\n",
      "to the client in order to avoid crashing it.\n",
      "To change this limit, set the config variable\n",
      "`--NotebookApp.iopub_msg_rate_limit`.\n",
      "\n",
      "Current values:\n",
      "NotebookApp.iopub_msg_rate_limit=1000.0 (msgs/sec)\n",
      "NotebookApp.rate_limit_window=3.0 (secs)\n",
      "\n"
     ]
    },
    {
     "name": "stdout",
     "output_type": "stream",
     "text": [
      "[==============================--------------------] 61.1% 1015.3/1662.8MB downloaded"
     ]
    },
    {
     "name": "stderr",
     "output_type": "stream",
     "text": [
      "IOPub message rate exceeded.\n",
      "The notebook server will temporarily stop sending output\n",
      "to the client in order to avoid crashing it.\n",
      "To change this limit, set the config variable\n",
      "`--NotebookApp.iopub_msg_rate_limit`.\n",
      "\n",
      "Current values:\n",
      "NotebookApp.iopub_msg_rate_limit=1000.0 (msgs/sec)\n",
      "NotebookApp.rate_limit_window=3.0 (secs)\n",
      "\n"
     ]
    },
    {
     "name": "stdout",
     "output_type": "stream",
     "text": [
      "[===============================-------------------] 62.0% 1031.5/1662.8MB downloaded"
     ]
    },
    {
     "name": "stderr",
     "output_type": "stream",
     "text": [
      "IOPub message rate exceeded.\n",
      "The notebook server will temporarily stop sending output\n",
      "to the client in order to avoid crashing it.\n",
      "To change this limit, set the config variable\n",
      "`--NotebookApp.iopub_msg_rate_limit`.\n",
      "\n",
      "Current values:\n",
      "NotebookApp.iopub_msg_rate_limit=1000.0 (msgs/sec)\n",
      "NotebookApp.rate_limit_window=3.0 (secs)\n",
      "\n"
     ]
    },
    {
     "name": "stdout",
     "output_type": "stream",
     "text": [
      "[===============================-------------------] 63.5% 1056.1/1662.8MB downloaded"
     ]
    },
    {
     "name": "stderr",
     "output_type": "stream",
     "text": [
      "IOPub message rate exceeded.\n",
      "The notebook server will temporarily stop sending output\n",
      "to the client in order to avoid crashing it.\n",
      "To change this limit, set the config variable\n",
      "`--NotebookApp.iopub_msg_rate_limit`.\n",
      "\n",
      "Current values:\n",
      "NotebookApp.iopub_msg_rate_limit=1000.0 (msgs/sec)\n",
      "NotebookApp.rate_limit_window=3.0 (secs)\n",
      "\n"
     ]
    },
    {
     "name": "stdout",
     "output_type": "stream",
     "text": [
      "[================================------------------] 64.6% 1074.1/1662.8MB downloaded"
     ]
    },
    {
     "name": "stderr",
     "output_type": "stream",
     "text": [
      "IOPub message rate exceeded.\n",
      "The notebook server will temporarily stop sending output\n",
      "to the client in order to avoid crashing it.\n",
      "To change this limit, set the config variable\n",
      "`--NotebookApp.iopub_msg_rate_limit`.\n",
      "\n",
      "Current values:\n",
      "NotebookApp.iopub_msg_rate_limit=1000.0 (msgs/sec)\n",
      "NotebookApp.rate_limit_window=3.0 (secs)\n",
      "\n"
     ]
    },
    {
     "name": "stdout",
     "output_type": "stream",
     "text": [
      "[=================================-----------------] 66.3% 1101.9/1662.8MB downloaded"
     ]
    },
    {
     "name": "stderr",
     "output_type": "stream",
     "text": [
      "IOPub message rate exceeded.\n",
      "The notebook server will temporarily stop sending output\n",
      "to the client in order to avoid crashing it.\n",
      "To change this limit, set the config variable\n",
      "`--NotebookApp.iopub_msg_rate_limit`.\n",
      "\n",
      "Current values:\n",
      "NotebookApp.iopub_msg_rate_limit=1000.0 (msgs/sec)\n",
      "NotebookApp.rate_limit_window=3.0 (secs)\n",
      "\n"
     ]
    },
    {
     "name": "stdout",
     "output_type": "stream",
     "text": [
      "[====================================--------------] 73.1% 1215.4/1662.8MB downloaded"
     ]
    },
    {
     "name": "stderr",
     "output_type": "stream",
     "text": [
      "IOPub message rate exceeded.\n",
      "The notebook server will temporarily stop sending output\n",
      "to the client in order to avoid crashing it.\n",
      "To change this limit, set the config variable\n",
      "`--NotebookApp.iopub_msg_rate_limit`.\n",
      "\n",
      "Current values:\n",
      "NotebookApp.iopub_msg_rate_limit=1000.0 (msgs/sec)\n",
      "NotebookApp.rate_limit_window=3.0 (secs)\n",
      "\n"
     ]
    },
    {
     "name": "stdout",
     "output_type": "stream",
     "text": [
      "[=====================================-------------] 74.2% 1234.4/1662.8MB downloaded"
     ]
    },
    {
     "name": "stderr",
     "output_type": "stream",
     "text": [
      "IOPub message rate exceeded.\n",
      "The notebook server will temporarily stop sending output\n",
      "to the client in order to avoid crashing it.\n",
      "To change this limit, set the config variable\n",
      "`--NotebookApp.iopub_msg_rate_limit`.\n",
      "\n",
      "Current values:\n",
      "NotebookApp.iopub_msg_rate_limit=1000.0 (msgs/sec)\n",
      "NotebookApp.rate_limit_window=3.0 (secs)\n",
      "\n"
     ]
    },
    {
     "name": "stdout",
     "output_type": "stream",
     "text": [
      "[=====================================-------------] 75.2% 1250.4/1662.8MB downloaded"
     ]
    },
    {
     "name": "stderr",
     "output_type": "stream",
     "text": [
      "IOPub message rate exceeded.\n",
      "The notebook server will temporarily stop sending output\n",
      "to the client in order to avoid crashing it.\n",
      "To change this limit, set the config variable\n",
      "`--NotebookApp.iopub_msg_rate_limit`.\n",
      "\n",
      "Current values:\n",
      "NotebookApp.iopub_msg_rate_limit=1000.0 (msgs/sec)\n",
      "NotebookApp.rate_limit_window=3.0 (secs)\n",
      "\n"
     ]
    },
    {
     "name": "stdout",
     "output_type": "stream",
     "text": [
      "[======================================------------] 77.2% 1283.4/1662.8MB downloaded"
     ]
    },
    {
     "name": "stderr",
     "output_type": "stream",
     "text": [
      "IOPub message rate exceeded.\n",
      "The notebook server will temporarily stop sending output\n",
      "to the client in order to avoid crashing it.\n",
      "To change this limit, set the config variable\n",
      "`--NotebookApp.iopub_msg_rate_limit`.\n",
      "\n",
      "Current values:\n",
      "NotebookApp.iopub_msg_rate_limit=1000.0 (msgs/sec)\n",
      "NotebookApp.rate_limit_window=3.0 (secs)\n",
      "\n"
     ]
    },
    {
     "name": "stdout",
     "output_type": "stream",
     "text": [
      "[=======================================-----------] 79.1% 1314.5/1662.8MB downloaded"
     ]
    },
    {
     "name": "stderr",
     "output_type": "stream",
     "text": [
      "IOPub message rate exceeded.\n",
      "The notebook server will temporarily stop sending output\n",
      "to the client in order to avoid crashing it.\n",
      "To change this limit, set the config variable\n",
      "`--NotebookApp.iopub_msg_rate_limit`.\n",
      "\n",
      "Current values:\n",
      "NotebookApp.iopub_msg_rate_limit=1000.0 (msgs/sec)\n",
      "NotebookApp.rate_limit_window=3.0 (secs)\n",
      "\n"
     ]
    },
    {
     "name": "stdout",
     "output_type": "stream",
     "text": [
      "[========================================----------] 80.9% 1345.3/1662.8MB downloaded"
     ]
    },
    {
     "name": "stderr",
     "output_type": "stream",
     "text": [
      "IOPub message rate exceeded.\n",
      "The notebook server will temporarily stop sending output\n",
      "to the client in order to avoid crashing it.\n",
      "To change this limit, set the config variable\n",
      "`--NotebookApp.iopub_msg_rate_limit`.\n",
      "\n",
      "Current values:\n",
      "NotebookApp.iopub_msg_rate_limit=1000.0 (msgs/sec)\n",
      "NotebookApp.rate_limit_window=3.0 (secs)\n",
      "\n"
     ]
    },
    {
     "name": "stdout",
     "output_type": "stream",
     "text": [
      "[===============================================---] 94.9% 1578.7/1662.8MB downloaded"
     ]
    },
    {
     "name": "stderr",
     "output_type": "stream",
     "text": [
      "IOPub message rate exceeded.\n",
      "The notebook server will temporarily stop sending output\n",
      "to the client in order to avoid crashing it.\n",
      "To change this limit, set the config variable\n",
      "`--NotebookApp.iopub_msg_rate_limit`.\n",
      "\n",
      "Current values:\n",
      "NotebookApp.iopub_msg_rate_limit=1000.0 (msgs/sec)\n",
      "NotebookApp.rate_limit_window=3.0 (secs)\n",
      "\n"
     ]
    },
    {
     "name": "stdout",
     "output_type": "stream",
     "text": [
      "[==================================================] 100.0% 1662.8/1662.8MB downloaded\n"
     ]
    }
   ],
   "source": [
    "# Loading pretrained word embedding from GoogleNews:\n",
    "\n",
    "embeddings = api.load('word2vec-google-news-300', return_path=True)\n",
    "GoogleNews_word2vec = KeyedVectors.load_word2vec_format(embeddings, binary=True)"
   ]
  },
  {
   "cell_type": "code",
   "execution_count": 8,
   "id": "7dfa7c25",
   "metadata": {},
   "outputs": [
    {
     "data": {
      "text/plain": [
       "(0, 0)"
      ]
     },
     "execution_count": 8,
     "metadata": {},
     "output_type": "execute_result"
    }
   ],
   "source": [
    "# Training our corpus with GoogleNews embedding (CBOW architecture)\n",
    "# [source for this piece: https://www.kdnuggets.com/2020/08/content-based-recommendation-system-word-embeddings.html]:\n",
    "\n",
    "GoogleNews_model = Word2Vec(size=300, window=5, min_count=2, workers=-1, sg=0) # sg=0 indicates CBOW architecture\n",
    "GoogleNews_model.build_vocab(corpus)\n",
    "GoogleNews_model.intersect_word2vec_format(embeddings, lockf=1.0, binary=True)\n",
    "GoogleNews_model.train(corpus, total_examples=GoogleNews_model.corpus_count, epochs=5)"
   ]
  },
  {
   "cell_type": "code",
   "execution_count": 9,
   "id": "188660a3",
   "metadata": {},
   "outputs": [],
   "source": [
    "# Generating Word2Vec embeddings for each overview (CBOW architecture)\n",
    "# [source for this piece: https://www.kdnuggets.com/2020/08/content-based-recommendation-system-word-embeddings.html]:\n",
    "\n",
    "def vectors(clean_overviews):\n",
    "    global word_embeddings\n",
    "    word_embeddings = []\n",
    "    \n",
    "    for overview in clean_overviews:\n",
    "        word2vec = None\n",
    "        count = 0\n",
    "        for word in overview:\n",
    "          #  print(word)\n",
    "            if word in GoogleNews_model.wv.vocab:\n",
    "                count += 1\n",
    "                if word2vec is None:\n",
    "                    word2vec = GoogleNews_model[word]\n",
    "                else:\n",
    "                    word2vec = word2vec + GoogleNews_model[word]\n",
    "                \n",
    "        if word2vec is not None:\n",
    "            word2vec = word2vec / count\n",
    "        \n",
    "        word_embeddings.append(word2vec)\n",
    "    \n",
    "    return word_embeddings"
   ]
  },
  {
   "cell_type": "code",
   "execution_count": 10,
   "id": "4fb593ce",
   "metadata": {},
   "outputs": [],
   "source": [
    "#print(len(vectors(clean_overviews)))\n",
    "#print(type(vectors(clean_overviews)))\n",
    "#embeddings=vectors(clean_overviews)\n",
    "#print(np.array(embeddings[9]).reshape(1, -1))\n",
    "\n",
    "#length = len(embeddings)\n",
    "#print(length-1)\n",
    "#print(np.array(embeddings[length-1]))\n",
    "#idx=df_metadata.index[df_metadata['title'] == title].tolist()\n",
    "#print(idx)\n",
    "#print(np.array(embeddings[idx[0]]).reshape(1, -1))\n"
   ]
  },
  {
   "cell_type": "code",
   "execution_count": 11,
   "id": "0bd50a3c",
   "metadata": {},
   "outputs": [],
   "source": [
    "# Function for recommending the top 5 similar movies (CBOW architecture):\n",
    "\n",
    "def recommending(title):\n",
    "    vectors_list=vectors(clean_overviews)\n",
    "    idx=titles.index(title)\n",
    "   # print(idx)\n",
    "    length = len(vectors_list)\n",
    "    similarities = []\n",
    "    for i in range(0,length-1):\n",
    "        try:\n",
    "            similarity = cosine_similarity(np.array(vectors_list[idx]).reshape(1, -1), \n",
    "                                           np.array(vectors_list[i]).reshape(1, -1))\n",
    "            similarities.append(similarity[0][0])\n",
    "        except ValueError:\n",
    "            similarities.append(0)\n",
    "        \n",
    "    similarities_dict={}\n",
    "    for count, value in enumerate(similarities):\n",
    "        similarities_dict[count]=value\n",
    "        \n",
    "    sorted_similarities_dict = dict(sorted(similarities_dict.items(),\n",
    "                           key=lambda item: item[1],\n",
    "                           reverse=True))\n",
    "    \n",
    "    indices_top=list(sorted_similarities_dict.keys())[1:6]\n",
    "    print(\"Top 5 movies most similar to\", title)\n",
    "    print(\"===================================\")\n",
    "    for index in indices_top:\n",
    "        print(titles[index])\n",
    "        print(\"\\n\")\n",
    "        print(overviews[index])\n",
    "        print(\"\\n\")"
   ]
  },
  {
   "cell_type": "code",
   "execution_count": 12,
   "id": "97cd6912",
   "metadata": {},
   "outputs": [
    {
     "name": "stderr",
     "output_type": "stream",
     "text": [
      "/tmp/ipykernel_137/3366340677.py:16: DeprecationWarning: Call to deprecated `__getitem__` (Method will be removed in 4.0.0, use self.wv.__getitem__() instead).\n",
      "  word2vec = GoogleNews_model[word]\n",
      "/tmp/ipykernel_137/3366340677.py:18: DeprecationWarning: Call to deprecated `__getitem__` (Method will be removed in 4.0.0, use self.wv.__getitem__() instead).\n",
      "  word2vec = word2vec + GoogleNews_model[word]\n"
     ]
    },
    {
     "name": "stdout",
     "output_type": "stream",
     "text": [
      "Top 5 movies most similar to GoldenEye\n",
      "===================================\n",
      "From Russia with Love\n",
      "\n",
      "\n",
      "Agent 007 is back in the second installment of the James Bond series, this time battling a secret crime organization known as SPECTRE. Russians Rosa Klebb and Kronsteen are out to snatch a decoding device known as the Lektor, using the ravishing Tatiana to lure Bond into helping them. Bond willingly travels to meet Tatiana in Istanbul, where he must rely on his wits to escape with his life in a series of deadly encounters with the enemy\n",
      "\n",
      "\n",
      "Johnny English Reborn\n",
      "\n",
      "\n",
      "The most prominent heads of state in the world begin gathering for a conference that could have a major impact on global politics. When MI-7 receives word that the Chinese premier has become the target of some high-powered killers, it falls on Johnny English to save the day. Armed with the latest high-tech weaponry and gadgets that would make even James Bond jealous, the once-disgraced agent uncovers evidence of a massive conspiracy involving some of the world's most powerful organisations, and vows to redeem his tarnished reputation by stopping the killers before they can strike.\n",
      "\n",
      "\n",
      "Ninja: Shadow of a Tear\n",
      "\n",
      "\n",
      "Fight everyone and trust no one: it's the code of survival practiced by martial-arts master Casey Bowman after his life of domestic bliss is shattered by a savage act of violence. Vowing revenge, the fearless American stealthily tracks the killer from Osaka to Bangkok to Rangoon with the help of a wise and crafty sensei. His only clues: a series of victims whose necks bear the distinctive mark of strangulation by barbed wire. Fighting to avenge as well as to survive, Casey must sharpen his razor-like responses and take his battle skills to the next level, even using deep meditation to fake his own death. His target: the sinister drug lord Goro, who is flooding the streets with deadly meth cooked at his remote jungle factory. To prepare for his ultimate confrontation, Casey must finally become an invisible warrior worthy of the name Ninja. But just when his prey is cornered, an unexpected twist shows Casey that his battle is only beginning: he truly can trust no one.\n",
      "\n",
      "\n",
      "Goldfinger\n",
      "\n",
      "\n",
      "Special agent 007 (Sean Connery) comes face to face with one of the most notorious villains of all time, and now he must outwit and outgun the powerful tycoon to prevent him from cashing in on a devious scheme to raid Fort Knox -- and obliterate the world's economy.\n",
      "\n",
      "\n",
      "Deathline\n",
      "\n",
      "\n",
      "In the future of post-Soviet and economically devastated Russia, Big Brother still rules with an iron hand of brutality, brain-washing and ruthless dictatorship. Into this cauldron of corruption and terror plunges American crook and smuggler John Wade (Rutger Hauer), looking to make a small fortune out of illegal fantasy chips... bio-synthetic devices that can make the user's weirdest and wildest fantasies come true in their scrambled minds. Betrayed by the leader of a vicious crime syndicate called the Trocia (Mark Dacascos); Wade is executed in cold blood by a bullet to the brain. The authorities discover his corpse and he is brought back to life via the miracle of biosynthetic technology. However, Wade eventually escapes, intent on exacting revenge on his double-crossing killers.\n",
      "\n",
      "\n"
     ]
    },
    {
     "name": "stderr",
     "output_type": "stream",
     "text": [
      "/tmp/ipykernel_137/3366340677.py:16: DeprecationWarning: Call to deprecated `__getitem__` (Method will be removed in 4.0.0, use self.wv.__getitem__() instead).\n",
      "  word2vec = GoogleNews_model[word]\n",
      "/tmp/ipykernel_137/3366340677.py:18: DeprecationWarning: Call to deprecated `__getitem__` (Method will be removed in 4.0.0, use self.wv.__getitem__() instead).\n",
      "  word2vec = word2vec + GoogleNews_model[word]\n"
     ]
    },
    {
     "name": "stdout",
     "output_type": "stream",
     "text": [
      "Top 5 movies most similar to Deathline\n",
      "===================================\n",
      "Ninja: Shadow of a Tear\n",
      "\n",
      "\n",
      "Fight everyone and trust no one: it's the code of survival practiced by martial-arts master Casey Bowman after his life of domestic bliss is shattered by a savage act of violence. Vowing revenge, the fearless American stealthily tracks the killer from Osaka to Bangkok to Rangoon with the help of a wise and crafty sensei. His only clues: a series of victims whose necks bear the distinctive mark of strangulation by barbed wire. Fighting to avenge as well as to survive, Casey must sharpen his razor-like responses and take his battle skills to the next level, even using deep meditation to fake his own death. His target: the sinister drug lord Goro, who is flooding the streets with deadly meth cooked at his remote jungle factory. To prepare for his ultimate confrontation, Casey must finally become an invisible warrior worthy of the name Ninja. But just when his prey is cornered, an unexpected twist shows Casey that his battle is only beginning: he truly can trust no one.\n",
      "\n",
      "\n",
      "Gag\n",
      "\n",
      "\n",
      "A simple burglary spirals violently out of control when two professional thieves break into a Hollywood Hills mansion in search of riches and instead find a man who has been bound, gagged and imprisoned in the massive estate. Upon making their grim discovery the morally conflicted pair makes a series of poor decisions that leads to a bloody battle for survival against a killer with no conscience and no remorse! A nightmare of greed, deceit, gut-wrenching violence and friendship put to the ultimate test, Gag is cutting-edge suspense horror at its spine-tingling best.\n",
      "\n",
      "\n",
      "Shark in Venice\n",
      "\n",
      "\n",
      "The seemingly tranquil waterways of Venice are terrorized by the perfect killing machine. In search of his father who has mysteriously disappeared diving in the city, David stumbles across the cryptic trail leading to the long-lost fortune of the Medici. As the unwitting pawn in a Mafia plot to recover the treasure, David's girlfriend is kidnapped at gunpoint, plunging him into a desperate race against time. If he has any hope of saving her he must enter the deadly waters. Can David out-gun the Mafia assassins and survive the voracious sharks laying in wait beneath the surface, or will he succumb to the same fate as his father?\n",
      "\n",
      "\n",
      "The Stranger\n",
      "\n",
      "\n",
      "Pro wrestling legend Steve Austin stars as a man with no name, no memory and absolutely nothing left to lose. But when he finds himself hunted by both the FBI and the Russian mob, this amnesiac decides to fight back. Pursuit cannot stop him. Torture will not break him. And with every beating, bullet and betrayal, he’ll remember another piece of the horror that took away his career, his family and his identity. Now the puzzle is nearly complete, and one man is about to take back his past…by ending a whole lot of futures. Erica Cerra (“Eureka”) and Adam Beach (Flags of Our Fathers) star in this explosive action-thriller about collateral damage, stone cold vengeance, and a double-crossed killing machine known only as The Stranger\n",
      "\n",
      "\n",
      "Voodoo Possession\n",
      "\n",
      "\n",
      "Imagine an insatiable demon that feeds on blood, thrives on pain, and reaches from beyond the grave to torment the living...and the dead. For believers and skeptics alike, there is nothing in this world or the next to rival the relentless evil of a Voodoo Possession. Burdened since childhood with a gnawing sense of guilt, cynical Aiden Chase journeys to a Haitian insane asylum in search of his missing brother. Upon arriving, he discovers all the inmates and the hospital administrator (Danny Trejo, Machete) are seemingly possessed by a bloodthirsty voodoo spirit. Now, Aiden must abandon reality and descend into a terrifying spirit world to try to rescue his brother - or they will both be damned for eternity.\n",
      "\n",
      "\n"
     ]
    }
   ],
   "source": [
    "# Testing the recommendations (CBOW architecture):\n",
    "\n",
    "title=\"GoldenEye\"\n",
    "recommending(title)\n",
    "\n",
    "title=\"Deathline\"\n",
    "recommending(title)"
   ]
  },
  {
   "cell_type": "code",
   "execution_count": 13,
   "id": "08b306be",
   "metadata": {},
   "outputs": [
    {
     "data": {
      "text/plain": [
       "(0, 0)"
      ]
     },
     "execution_count": 13,
     "metadata": {},
     "output_type": "execute_result"
    }
   ],
   "source": [
    "# Training our corpus with GoogleNews embedding (Skip-Gram architecture)\n",
    "# [source for this piece: https://www.kdnuggets.com/2020/08/content-based-recommendation-system-word-embeddings.html]:\n",
    "\n",
    "GoogleNews_model_SG = Word2Vec(size=300, window=5, min_count=2, workers=-1, sg=1) # sg=1 indicates Skip-Gram architecture\n",
    "GoogleNews_model_SG.build_vocab(corpus)\n",
    "GoogleNews_model_SG.intersect_word2vec_format(embeddings, lockf=1.0, binary=True)\n",
    "GoogleNews_model_SG.train(corpus, total_examples=GoogleNews_model_SG.corpus_count, epochs=5)"
   ]
  },
  {
   "cell_type": "code",
   "execution_count": 14,
   "id": "f8a123de",
   "metadata": {},
   "outputs": [],
   "source": [
    "# Generating Word2Vec embeddings for each overview (Skip-Gram architecture)\n",
    "# [source for this piece: https://www.kdnuggets.com/2020/08/content-based-recommendation-system-word-embeddings.html]:\n",
    "\n",
    "def vectors_SG(clean_overviews):\n",
    "    global word_embeddings_SG\n",
    "    word_embeddings_SG = []\n",
    "    \n",
    "    for overview in clean_overviews:\n",
    "        word2vec = None\n",
    "        count = 0\n",
    "        for word in overview:\n",
    "          #  print(word)\n",
    "            if word in GoogleNews_model_SG.wv.vocab:\n",
    "                count += 1\n",
    "                if word2vec is None:\n",
    "                    word2vec = GoogleNews_model_SG[word]\n",
    "                else:\n",
    "                    word2vec = word2vec + GoogleNews_model_SG[word]\n",
    "                \n",
    "        if word2vec is not None:\n",
    "            word2vec = word2vec / count\n",
    "        \n",
    "        word_embeddings_SG.append(word2vec)\n",
    "    \n",
    "    return word_embeddings_SG"
   ]
  },
  {
   "cell_type": "code",
   "execution_count": 15,
   "id": "6d71a152",
   "metadata": {},
   "outputs": [],
   "source": [
    "# Function for recommending the top 5 similar movies (Skip-Gram architecture):\n",
    "\n",
    "def recommending(title):\n",
    "    vectors_list=vectors_SG(clean_overviews)\n",
    "    idx=titles.index(title)\n",
    "   # print(idx)\n",
    "    length = len(vectors_list)\n",
    "    similarities = []\n",
    "    for i in range(0,length-1):\n",
    "        try:\n",
    "            similarity = cosine_similarity(np.array(vectors_list[idx]).reshape(1, -1), \n",
    "                                           np.array(vectors_list[i]).reshape(1, -1))\n",
    "            similarities.append(similarity[0][0])\n",
    "        except ValueError:\n",
    "            similarities.append(0)\n",
    "        \n",
    "    similarities_dict={}\n",
    "    for count, value in enumerate(similarities):\n",
    "        similarities_dict[count]=value\n",
    "        \n",
    "    sorted_similarities_dict = dict(sorted(similarities_dict.items(),\n",
    "                           key=lambda item: item[1],\n",
    "                           reverse=True))\n",
    "    \n",
    "    indices_top=list(sorted_similarities_dict.keys())[1:6]\n",
    "    print(\"Top 5 movies most similar to\", title)\n",
    "    print(\"===================================\")\n",
    "    for index in indices_top:\n",
    "        print(titles[index])\n",
    "        print(\"\\n\")\n",
    "        print(overviews[index])\n",
    "        print(\"\\n\")"
   ]
  },
  {
   "cell_type": "code",
   "execution_count": 17,
   "id": "78cd25e2",
   "metadata": {},
   "outputs": [
    {
     "name": "stderr",
     "output_type": "stream",
     "text": [
      "/tmp/ipykernel_137/2790036778.py:16: DeprecationWarning: Call to deprecated `__getitem__` (Method will be removed in 4.0.0, use self.wv.__getitem__() instead).\n",
      "  word2vec = GoogleNews_model_SG[word]\n",
      "/tmp/ipykernel_137/2790036778.py:18: DeprecationWarning: Call to deprecated `__getitem__` (Method will be removed in 4.0.0, use self.wv.__getitem__() instead).\n",
      "  word2vec = word2vec + GoogleNews_model_SG[word]\n"
     ]
    },
    {
     "name": "stdout",
     "output_type": "stream",
     "text": [
      "Top 5 movies most similar to Deathline\n",
      "===================================\n",
      "Ninja: Shadow of a Tear\n",
      "\n",
      "\n",
      "Fight everyone and trust no one: it's the code of survival practiced by martial-arts master Casey Bowman after his life of domestic bliss is shattered by a savage act of violence. Vowing revenge, the fearless American stealthily tracks the killer from Osaka to Bangkok to Rangoon with the help of a wise and crafty sensei. His only clues: a series of victims whose necks bear the distinctive mark of strangulation by barbed wire. Fighting to avenge as well as to survive, Casey must sharpen his razor-like responses and take his battle skills to the next level, even using deep meditation to fake his own death. His target: the sinister drug lord Goro, who is flooding the streets with deadly meth cooked at his remote jungle factory. To prepare for his ultimate confrontation, Casey must finally become an invisible warrior worthy of the name Ninja. But just when his prey is cornered, an unexpected twist shows Casey that his battle is only beginning: he truly can trust no one.\n",
      "\n",
      "\n",
      "Gag\n",
      "\n",
      "\n",
      "A simple burglary spirals violently out of control when two professional thieves break into a Hollywood Hills mansion in search of riches and instead find a man who has been bound, gagged and imprisoned in the massive estate. Upon making their grim discovery the morally conflicted pair makes a series of poor decisions that leads to a bloody battle for survival against a killer with no conscience and no remorse! A nightmare of greed, deceit, gut-wrenching violence and friendship put to the ultimate test, Gag is cutting-edge suspense horror at its spine-tingling best.\n",
      "\n",
      "\n",
      "Shark in Venice\n",
      "\n",
      "\n",
      "The seemingly tranquil waterways of Venice are terrorized by the perfect killing machine. In search of his father who has mysteriously disappeared diving in the city, David stumbles across the cryptic trail leading to the long-lost fortune of the Medici. As the unwitting pawn in a Mafia plot to recover the treasure, David's girlfriend is kidnapped at gunpoint, plunging him into a desperate race against time. If he has any hope of saving her he must enter the deadly waters. Can David out-gun the Mafia assassins and survive the voracious sharks laying in wait beneath the surface, or will he succumb to the same fate as his father?\n",
      "\n",
      "\n",
      "The Stranger\n",
      "\n",
      "\n",
      "Pro wrestling legend Steve Austin stars as a man with no name, no memory and absolutely nothing left to lose. But when he finds himself hunted by both the FBI and the Russian mob, this amnesiac decides to fight back. Pursuit cannot stop him. Torture will not break him. And with every beating, bullet and betrayal, he’ll remember another piece of the horror that took away his career, his family and his identity. Now the puzzle is nearly complete, and one man is about to take back his past…by ending a whole lot of futures. Erica Cerra (“Eureka”) and Adam Beach (Flags of Our Fathers) star in this explosive action-thriller about collateral damage, stone cold vengeance, and a double-crossed killing machine known only as The Stranger\n",
      "\n",
      "\n",
      "Voodoo Possession\n",
      "\n",
      "\n",
      "Imagine an insatiable demon that feeds on blood, thrives on pain, and reaches from beyond the grave to torment the living...and the dead. For believers and skeptics alike, there is nothing in this world or the next to rival the relentless evil of a Voodoo Possession. Burdened since childhood with a gnawing sense of guilt, cynical Aiden Chase journeys to a Haitian insane asylum in search of his missing brother. Upon arriving, he discovers all the inmates and the hospital administrator (Danny Trejo, Machete) are seemingly possessed by a bloodthirsty voodoo spirit. Now, Aiden must abandon reality and descend into a terrifying spirit world to try to rescue his brother - or they will both be damned for eternity.\n",
      "\n",
      "\n"
     ]
    }
   ],
   "source": [
    "# Testing the recommendations (Skip-Gram architecture):\n",
    "\n",
    "title=\"Deathline\"\n",
    "recommending(title)\n",
    "\n",
    "\n",
    "# https://image.tmdb.org/t/p/original/7G9915LfUQ2lVfwMEEhDsn3kT4B.jpg"
   ]
  },
  {
   "cell_type": "code",
   "execution_count": null,
   "id": "18fdc3b9",
   "metadata": {},
   "outputs": [],
   "source": []
  }
 ],
 "metadata": {
  "kernelspec": {
   "display_name": "Python 3",
   "language": "python",
   "name": "python3"
  },
  "language_info": {
   "codemirror_mode": {
    "name": "ipython",
    "version": 3
   },
   "file_extension": ".py",
   "mimetype": "text/x-python",
   "name": "python",
   "nbconvert_exporter": "python",
   "pygments_lexer": "ipython3",
   "version": "3.9.5"
  }
 },
 "nbformat": 4,
 "nbformat_minor": 5
}
