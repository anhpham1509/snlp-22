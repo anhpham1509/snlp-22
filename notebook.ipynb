{
 "cells": [
  {
   "cell_type": "code",
   "execution_count": 1,
   "metadata": {
    "vscode": {
     "languageId": "shellscript"
    }
   },
   "outputs": [
    {
     "name": "stdout",
     "output_type": "stream",
     "text": [
      "Requirement already satisfied: pandas in /Users/jpturunen/miniconda3/lib/python3.9/site-packages (1.4.2)\n",
      "Requirement already satisfied: numpy in /Users/jpturunen/miniconda3/lib/python3.9/site-packages (1.22.3)\n",
      "Requirement already satisfied: sklearn in /Users/jpturunen/miniconda3/lib/python3.9/site-packages (0.0)\n",
      "Requirement already satisfied: nltk in /Users/jpturunen/miniconda3/lib/python3.9/site-packages (3.7)\n",
      "Requirement already satisfied: spacy in /Users/jpturunen/miniconda3/lib/python3.9/site-packages (3.2.4)\n",
      "Requirement already satisfied: python-dateutil>=2.8.1 in /Users/jpturunen/miniconda3/lib/python3.9/site-packages (from pandas) (2.8.2)\n",
      "Requirement already satisfied: pytz>=2020.1 in /Users/jpturunen/miniconda3/lib/python3.9/site-packages (from pandas) (2022.1)\n",
      "Requirement already satisfied: six>=1.5 in /Users/jpturunen/miniconda3/lib/python3.9/site-packages (from python-dateutil>=2.8.1->pandas) (1.16.0)\n",
      "Requirement already satisfied: scikit-learn in /Users/jpturunen/miniconda3/lib/python3.9/site-packages (from sklearn) (1.0.2)\n",
      "Requirement already satisfied: click in /Users/jpturunen/miniconda3/lib/python3.9/site-packages (from nltk) (8.0.4)\n",
      "Requirement already satisfied: joblib in /Users/jpturunen/miniconda3/lib/python3.9/site-packages (from nltk) (1.1.0)\n",
      "Requirement already satisfied: tqdm in /Users/jpturunen/miniconda3/lib/python3.9/site-packages (from nltk) (4.61.2)\n",
      "Requirement already satisfied: regex>=2021.8.3 in /Users/jpturunen/miniconda3/lib/python3.9/site-packages (from nltk) (2022.3.15)\n",
      "Requirement already satisfied: murmurhash<1.1.0,>=0.28.0 in /Users/jpturunen/miniconda3/lib/python3.9/site-packages (from spacy) (1.0.6)\n",
      "Requirement already satisfied: spacy-loggers<2.0.0,>=1.0.0 in /Users/jpturunen/miniconda3/lib/python3.9/site-packages (from spacy) (1.0.2)\n",
      "Requirement already satisfied: typer<0.5.0,>=0.3.0 in /Users/jpturunen/miniconda3/lib/python3.9/site-packages (from spacy) (0.4.1)\n",
      "Requirement already satisfied: wasabi<1.1.0,>=0.8.1 in /Users/jpturunen/miniconda3/lib/python3.9/site-packages (from spacy) (0.9.1)\n",
      "Requirement already satisfied: pathy>=0.3.5 in /Users/jpturunen/miniconda3/lib/python3.9/site-packages (from spacy) (0.6.1)\n",
      "Requirement already satisfied: srsly<3.0.0,>=2.4.1 in /Users/jpturunen/miniconda3/lib/python3.9/site-packages (from spacy) (2.4.3)\n",
      "Requirement already satisfied: pydantic!=1.8,!=1.8.1,<1.9.0,>=1.7.4 in /Users/jpturunen/miniconda3/lib/python3.9/site-packages (from spacy) (1.8.2)\n",
      "Requirement already satisfied: cymem<2.1.0,>=2.0.2 in /Users/jpturunen/miniconda3/lib/python3.9/site-packages (from spacy) (2.0.6)\n",
      "Requirement already satisfied: preshed<3.1.0,>=3.0.2 in /Users/jpturunen/miniconda3/lib/python3.9/site-packages (from spacy) (3.0.6)\n",
      "Requirement already satisfied: setuptools in /Users/jpturunen/miniconda3/lib/python3.9/site-packages (from spacy) (52.0.0.post20210125)\n",
      "Requirement already satisfied: spacy-legacy<3.1.0,>=3.0.8 in /Users/jpturunen/miniconda3/lib/python3.9/site-packages (from spacy) (3.0.9)\n",
      "Requirement already satisfied: langcodes<4.0.0,>=3.2.0 in /Users/jpturunen/miniconda3/lib/python3.9/site-packages (from spacy) (3.3.0)\n",
      "Requirement already satisfied: thinc<8.1.0,>=8.0.12 in /Users/jpturunen/miniconda3/lib/python3.9/site-packages (from spacy) (8.0.15)\n",
      "Requirement already satisfied: blis<0.8.0,>=0.4.0 in /Users/jpturunen/miniconda3/lib/python3.9/site-packages (from spacy) (0.7.7)\n",
      "Requirement already satisfied: packaging>=20.0 in /Users/jpturunen/miniconda3/lib/python3.9/site-packages (from spacy) (21.3)\n",
      "Requirement already satisfied: requests<3.0.0,>=2.13.0 in /Users/jpturunen/miniconda3/lib/python3.9/site-packages (from spacy) (2.25.1)\n",
      "Requirement already satisfied: catalogue<2.1.0,>=2.0.6 in /Users/jpturunen/miniconda3/lib/python3.9/site-packages (from spacy) (2.0.7)\n",
      "Requirement already satisfied: jinja2 in /Users/jpturunen/miniconda3/lib/python3.9/site-packages (from spacy) (3.1.1)\n",
      "Requirement already satisfied: pyparsing!=3.0.5,>=2.0.2 in /Users/jpturunen/miniconda3/lib/python3.9/site-packages (from packaging>=20.0->spacy) (3.0.8)\n",
      "Requirement already satisfied: smart-open<6.0.0,>=5.0.0 in /Users/jpturunen/miniconda3/lib/python3.9/site-packages (from pathy>=0.3.5->spacy) (5.2.1)\n",
      "Requirement already satisfied: typing-extensions>=3.7.4.3 in /Users/jpturunen/miniconda3/lib/python3.9/site-packages (from pydantic!=1.8,!=1.8.1,<1.9.0,>=1.7.4->spacy) (4.2.0)\n",
      "Requirement already satisfied: certifi>=2017.4.17 in /Users/jpturunen/miniconda3/lib/python3.9/site-packages (from requests<3.0.0,>=2.13.0->spacy) (2021.10.8)\n",
      "Requirement already satisfied: chardet<5,>=3.0.2 in /Users/jpturunen/miniconda3/lib/python3.9/site-packages (from requests<3.0.0,>=2.13.0->spacy) (4.0.0)\n",
      "Requirement already satisfied: idna<3,>=2.5 in /Users/jpturunen/miniconda3/lib/python3.9/site-packages (from requests<3.0.0,>=2.13.0->spacy) (2.10)\n",
      "Requirement already satisfied: urllib3<1.27,>=1.21.1 in /Users/jpturunen/miniconda3/lib/python3.9/site-packages (from requests<3.0.0,>=2.13.0->spacy) (1.26.6)\n",
      "Requirement already satisfied: MarkupSafe>=2.0 in /Users/jpturunen/miniconda3/lib/python3.9/site-packages (from jinja2->spacy) (2.1.1)\n",
      "Requirement already satisfied: scipy>=1.1.0 in /Users/jpturunen/miniconda3/lib/python3.9/site-packages (from scikit-learn->sklearn) (1.8.0)\n",
      "Requirement already satisfied: threadpoolctl>=2.0.0 in /Users/jpturunen/miniconda3/lib/python3.9/site-packages (from scikit-learn->sklearn) (3.1.0)\n",
      "Collecting en-core-web-sm==3.2.0\n",
      "  Downloading https://github.com/explosion/spacy-models/releases/download/en_core_web_sm-3.2.0/en_core_web_sm-3.2.0-py3-none-any.whl (13.9 MB)\n",
      "\u001b[K     |████████████████████████████████| 13.9 MB 3.0 MB/s eta 0:00:01\n",
      "\u001b[?25hRequirement already satisfied: spacy<3.3.0,>=3.2.0 in /Users/jpturunen/miniconda3/lib/python3.9/site-packages (from en-core-web-sm==3.2.0) (3.2.4)\n",
      "Requirement already satisfied: jinja2 in /Users/jpturunen/miniconda3/lib/python3.9/site-packages (from spacy<3.3.0,>=3.2.0->en-core-web-sm==3.2.0) (3.1.1)\n",
      "Requirement already satisfied: catalogue<2.1.0,>=2.0.6 in /Users/jpturunen/miniconda3/lib/python3.9/site-packages (from spacy<3.3.0,>=3.2.0->en-core-web-sm==3.2.0) (2.0.7)\n",
      "Requirement already satisfied: srsly<3.0.0,>=2.4.1 in /Users/jpturunen/miniconda3/lib/python3.9/site-packages (from spacy<3.3.0,>=3.2.0->en-core-web-sm==3.2.0) (2.4.3)\n",
      "Requirement already satisfied: spacy-loggers<2.0.0,>=1.0.0 in /Users/jpturunen/miniconda3/lib/python3.9/site-packages (from spacy<3.3.0,>=3.2.0->en-core-web-sm==3.2.0) (1.0.2)\n",
      "Requirement already satisfied: blis<0.8.0,>=0.4.0 in /Users/jpturunen/miniconda3/lib/python3.9/site-packages (from spacy<3.3.0,>=3.2.0->en-core-web-sm==3.2.0) (0.7.7)\n",
      "Requirement already satisfied: spacy-legacy<3.1.0,>=3.0.8 in /Users/jpturunen/miniconda3/lib/python3.9/site-packages (from spacy<3.3.0,>=3.2.0->en-core-web-sm==3.2.0) (3.0.9)\n",
      "Requirement already satisfied: wasabi<1.1.0,>=0.8.1 in /Users/jpturunen/miniconda3/lib/python3.9/site-packages (from spacy<3.3.0,>=3.2.0->en-core-web-sm==3.2.0) (0.9.1)\n",
      "Requirement already satisfied: thinc<8.1.0,>=8.0.12 in /Users/jpturunen/miniconda3/lib/python3.9/site-packages (from spacy<3.3.0,>=3.2.0->en-core-web-sm==3.2.0) (8.0.15)\n",
      "Requirement already satisfied: setuptools in /Users/jpturunen/miniconda3/lib/python3.9/site-packages (from spacy<3.3.0,>=3.2.0->en-core-web-sm==3.2.0) (52.0.0.post20210125)\n",
      "Requirement already satisfied: murmurhash<1.1.0,>=0.28.0 in /Users/jpturunen/miniconda3/lib/python3.9/site-packages (from spacy<3.3.0,>=3.2.0->en-core-web-sm==3.2.0) (1.0.6)\n",
      "Requirement already satisfied: click<8.1.0 in /Users/jpturunen/miniconda3/lib/python3.9/site-packages (from spacy<3.3.0,>=3.2.0->en-core-web-sm==3.2.0) (8.0.4)\n",
      "Requirement already satisfied: typer<0.5.0,>=0.3.0 in /Users/jpturunen/miniconda3/lib/python3.9/site-packages (from spacy<3.3.0,>=3.2.0->en-core-web-sm==3.2.0) (0.4.1)\n",
      "Requirement already satisfied: cymem<2.1.0,>=2.0.2 in /Users/jpturunen/miniconda3/lib/python3.9/site-packages (from spacy<3.3.0,>=3.2.0->en-core-web-sm==3.2.0) (2.0.6)\n",
      "Requirement already satisfied: packaging>=20.0 in /Users/jpturunen/miniconda3/lib/python3.9/site-packages (from spacy<3.3.0,>=3.2.0->en-core-web-sm==3.2.0) (21.3)\n",
      "Requirement already satisfied: pydantic!=1.8,!=1.8.1,<1.9.0,>=1.7.4 in /Users/jpturunen/miniconda3/lib/python3.9/site-packages (from spacy<3.3.0,>=3.2.0->en-core-web-sm==3.2.0) (1.8.2)\n",
      "Requirement already satisfied: langcodes<4.0.0,>=3.2.0 in /Users/jpturunen/miniconda3/lib/python3.9/site-packages (from spacy<3.3.0,>=3.2.0->en-core-web-sm==3.2.0) (3.3.0)\n",
      "Requirement already satisfied: numpy>=1.15.0 in /Users/jpturunen/miniconda3/lib/python3.9/site-packages (from spacy<3.3.0,>=3.2.0->en-core-web-sm==3.2.0) (1.22.3)\n",
      "Requirement already satisfied: preshed<3.1.0,>=3.0.2 in /Users/jpturunen/miniconda3/lib/python3.9/site-packages (from spacy<3.3.0,>=3.2.0->en-core-web-sm==3.2.0) (3.0.6)\n",
      "Requirement already satisfied: pathy>=0.3.5 in /Users/jpturunen/miniconda3/lib/python3.9/site-packages (from spacy<3.3.0,>=3.2.0->en-core-web-sm==3.2.0) (0.6.1)\n",
      "Requirement already satisfied: requests<3.0.0,>=2.13.0 in /Users/jpturunen/miniconda3/lib/python3.9/site-packages (from spacy<3.3.0,>=3.2.0->en-core-web-sm==3.2.0) (2.25.1)\n",
      "Requirement already satisfied: tqdm<5.0.0,>=4.38.0 in /Users/jpturunen/miniconda3/lib/python3.9/site-packages (from spacy<3.3.0,>=3.2.0->en-core-web-sm==3.2.0) (4.61.2)\n",
      "Requirement already satisfied: pyparsing!=3.0.5,>=2.0.2 in /Users/jpturunen/miniconda3/lib/python3.9/site-packages (from packaging>=20.0->spacy<3.3.0,>=3.2.0->en-core-web-sm==3.2.0) (3.0.8)\n",
      "Requirement already satisfied: smart-open<6.0.0,>=5.0.0 in /Users/jpturunen/miniconda3/lib/python3.9/site-packages (from pathy>=0.3.5->spacy<3.3.0,>=3.2.0->en-core-web-sm==3.2.0) (5.2.1)\n",
      "Requirement already satisfied: typing-extensions>=3.7.4.3 in /Users/jpturunen/miniconda3/lib/python3.9/site-packages (from pydantic!=1.8,!=1.8.1,<1.9.0,>=1.7.4->spacy<3.3.0,>=3.2.0->en-core-web-sm==3.2.0) (4.2.0)\n",
      "Requirement already satisfied: idna<3,>=2.5 in /Users/jpturunen/miniconda3/lib/python3.9/site-packages (from requests<3.0.0,>=2.13.0->spacy<3.3.0,>=3.2.0->en-core-web-sm==3.2.0) (2.10)\n",
      "Requirement already satisfied: chardet<5,>=3.0.2 in /Users/jpturunen/miniconda3/lib/python3.9/site-packages (from requests<3.0.0,>=2.13.0->spacy<3.3.0,>=3.2.0->en-core-web-sm==3.2.0) (4.0.0)\n",
      "Requirement already satisfied: urllib3<1.27,>=1.21.1 in /Users/jpturunen/miniconda3/lib/python3.9/site-packages (from requests<3.0.0,>=2.13.0->spacy<3.3.0,>=3.2.0->en-core-web-sm==3.2.0) (1.26.6)\n",
      "Requirement already satisfied: certifi>=2017.4.17 in /Users/jpturunen/miniconda3/lib/python3.9/site-packages (from requests<3.0.0,>=2.13.0->spacy<3.3.0,>=3.2.0->en-core-web-sm==3.2.0) (2021.10.8)\n",
      "Requirement already satisfied: MarkupSafe>=2.0 in /Users/jpturunen/miniconda3/lib/python3.9/site-packages (from jinja2->spacy<3.3.0,>=3.2.0->en-core-web-sm==3.2.0) (2.1.1)\n",
      "\u001b[38;5;2m✔ Download and installation successful\u001b[0m\n",
      "You can now load the package via spacy.load('en_core_web_sm')\n",
      "Note: you may need to restart the kernel to use updated packages.\n"
     ]
    }
   ],
   "source": [
    "pip install pandas numpy sklearn nltk spacy && python -m spacy download en_core_web_sm"
   ]
  },
  {
   "cell_type": "code",
   "execution_count": 2,
   "metadata": {},
   "outputs": [],
   "source": [
    "# import libraries\n",
    "import pandas as pd\n",
    "import numpy as np\n",
    "import re"
   ]
  },
  {
   "cell_type": "code",
   "execution_count": 3,
   "metadata": {},
   "outputs": [
    {
     "name": "stderr",
     "output_type": "stream",
     "text": [
      "/var/folders/69/qtpzcp6j1q9_ldjr9z9tpgkms6z_vx/T/ipykernel_78656/2382365070.py:3: DtypeWarning: Columns (10) have mixed types. Specify dtype option on import or set low_memory=False.\n",
      "  df_metadata = pd.read_csv(BASE_PATH + \"movies_metadata.csv\")\n"
     ]
    }
   ],
   "source": [
    "BASE_PATH = \"./dataset/\"\n",
    "# load dataset\n",
    "df_metadata = pd.read_csv(BASE_PATH + \"movies_metadata.csv\")"
   ]
  },
  {
   "cell_type": "code",
   "execution_count": 4,
   "metadata": {},
   "outputs": [],
   "source": [
    "# filter columns\n",
    "metadata_cols = [\"id\", \"title\", \"overview\", \"tagline\", \"genres\", \"original_language\", \"poster_path\"]\n",
    "df_metadata   = df_metadata[metadata_cols]"
   ]
  },
  {
   "cell_type": "code",
   "execution_count": 5,
   "metadata": {},
   "outputs": [],
   "source": [
    "# filter language\n",
    "in_english     = df_metadata[\"original_language\"] == \"en\"\n",
    "df_metadata_en = df_metadata[in_english]"
   ]
  },
  {
   "cell_type": "code",
   "execution_count": 6,
   "metadata": {},
   "outputs": [
    {
     "name": "stderr",
     "output_type": "stream",
     "text": [
      "/var/folders/69/qtpzcp6j1q9_ldjr9z9tpgkms6z_vx/T/ipykernel_78656/1049403194.py:4: SettingWithCopyWarning: \n",
      "A value is trying to be set on a copy of a slice from a DataFrame.\n",
      "Try using .loc[row_indexer,col_indexer] = value instead\n",
      "\n",
      "See the caveats in the documentation: https://pandas.pydata.org/pandas-docs/stable/user_guide/indexing.html#returning-a-view-versus-a-copy\n",
      "  df_metadata_en[\"genres_\"] = genre_names_joined\n",
      "/var/folders/69/qtpzcp6j1q9_ldjr9z9tpgkms6z_vx/T/ipykernel_78656/1049403194.py:7: SettingWithCopyWarning: \n",
      "A value is trying to be set on a copy of a slice from a DataFrame.\n",
      "Try using .loc[row_indexer,col_indexer] = value instead\n",
      "\n",
      "See the caveats in the documentation: https://pandas.pydata.org/pandas-docs/stable/user_guide/indexing.html#returning-a-view-versus-a-copy\n",
      "  df_metadata_en[\"document\"] = (\n"
     ]
    }
   ],
   "source": [
    "# parse names from genres column\n",
    "genre_names               = list(map(lambda g: sorted(re.findall(\"'name':\\s*'(\\w*)'\", g)), df_metadata_en[\"genres\"]))\n",
    "genre_names_joined        = list(map(lambda g: \" \".join(g), genre_names))\n",
    "df_metadata_en[\"genres_\"] = genre_names_joined\n",
    "\n",
    "# combine features for tf-idf\n",
    "df_metadata_en[\"document\"] = (\n",
    "    df_metadata_en[\"title\"].astype(str) + \". \" + \n",
    "    df_metadata_en[\"overview\"].astype(str) + \". \" + \n",
    "    df_metadata_en[\"tagline\"].astype(str) + \". \" + \n",
    "    df_metadata_en[\"genres_\"].astype(str)\n",
    ")"
   ]
  },
  {
   "cell_type": "code",
   "execution_count": 7,
   "metadata": {},
   "outputs": [
    {
     "name": "stderr",
     "output_type": "stream",
     "text": [
      "[nltk_data] Downloading package punkt to /Users/jpturunen/nltk_data...\n",
      "[nltk_data]   Package punkt is already up-to-date!\n",
      "[nltk_data] Downloading package wordnet to\n",
      "[nltk_data]     /Users/jpturunen/nltk_data...\n",
      "[nltk_data]   Package wordnet is already up-to-date!\n",
      "[nltk_data] Downloading package stopwords to\n",
      "[nltk_data]     /Users/jpturunen/nltk_data...\n",
      "[nltk_data]   Package stopwords is already up-to-date!\n",
      "[nltk_data] Downloading package omw-1.4 to\n",
      "[nltk_data]     /Users/jpturunen/nltk_data...\n",
      "[nltk_data]   Package omw-1.4 is already up-to-date!\n"
     ]
    }
   ],
   "source": [
    "import nltk\n",
    "from nltk.corpus import stopwords\n",
    "from nltk.tokenize import word_tokenize\n",
    "\n",
    "nltk.download(\"punkt\")\n",
    "nltk.download(\"wordnet\")\n",
    "nltk.download(\"stopwords\")\n",
    "nltk.download(\"omw-1.4\")\n",
    "\n",
    "lemmatizer = nltk.wordnet.WordNetLemmatizer()\n",
    "stop_words = set(stopwords.words(\"english\"))\n",
    "\n",
    "import spacy\n",
    "from spacy.tokens import Token\n",
    "\n",
    "nlp = spacy.load(\"en_core_web_sm\", disable=[\"tagger\", \"parser\", \"attribute_ruler\", \"lemmatizer\"])\n",
    "\n",
    "def get_ents(doc):\n",
    "    return [\"_\".join(e.text.upper().split()) for e in nlp(doc).ents]"
   ]
  },
  {
   "cell_type": "code",
   "execution_count": 8,
   "metadata": {},
   "outputs": [],
   "source": [
    "corpus = list(df_metadata_en[\"document\"])\n",
    "vocab  = {}\n",
    "\n",
    "# pre-process corpus (named-entity recognition, stopword removal, lemmatization)\n",
    "for i, doc in enumerate(corpus):\n",
    "    # split to tokens and remove stopwords\n",
    "    tokens = [t for t in word_tokenize(doc.lower()) if t not in stop_words]\n",
    "    # lemmatization\n",
    "    tokens = [lemmatizer.lemmatize(t) for t in tokens]\n",
    "    # prepend entities\n",
    "    tokens = get_ents(doc) + tokens\n",
    "    # join tokens with whitespace and finish pre-processing\n",
    "    corpus[i] = \" \".join(tokens)\n",
    "    for t in tokens:\n",
    "        if t not in vocab:\n",
    "            vocab[t] = True\n",
    "\n",
    "# generate vocab\n",
    "vocab = list(dict.keys(vocab))"
   ]
  },
  {
   "cell_type": "code",
   "execution_count": 9,
   "metadata": {},
   "outputs": [
    {
     "name": "stdout",
     "output_type": "stream",
     "text": [
      "Ex Machina\n",
      "=============\n",
      "         TF-IDF\n",
      "CALEB  0.344829\n",
      "caleb  0.335572\n",
      "coder  0.205131\n",
      "=============\n",
      "The Shawshank Redemption\n",
      "=============\n",
      "             TF-IDF\n",
      "dufresne   0.388159\n",
      "shawshank  0.373435\n",
      "prisoner   0.216970\n",
      "=============\n",
      "Prometheus\n",
      "=============\n",
      "                                           TF-IDF\n",
      "THE_SEARCH_FOR_OUR_BEGINNING_COULD_LEAD  0.321738\n",
      "ADVENTURE_MYSTERY                        0.309533\n",
      "prometheus                               0.288669\n",
      "=============\n",
      "The Dark Knight\n",
      "=============\n",
      "            TF-IDF\n",
      "BATMAN    0.292623\n",
      "batman    0.287650\n",
      "criminal  0.198538\n",
      "=============\n"
     ]
    }
   ],
   "source": [
    "from sklearn.feature_extraction.text import TfidfVectorizer\n",
    "\n",
    "# calc tf-idf\n",
    "tf_idf_vec = TfidfVectorizer(lowercase=False, stop_words=None, vocabulary=vocab, smooth_idf=True, use_idf=True)\n",
    "tf_idf     = tf_idf_vec.fit_transform(corpus)\n",
    "\n",
    "titles        = list(df_metadata_en[\"title\"])\n",
    "movie_titles  = [\"Ex Machina\", \"The Shawshank Redemption\", \"Prometheus\", \"The Dark Knight\"]\n",
    "movie_indices = [titles.index(t) for t in movie_titles]\n",
    "\n",
    "# print first doc\n",
    "for i in movie_indices:\n",
    "    df = pd.DataFrame(tf_idf[i].T.todense(), index=tf_idf_vec.get_feature_names_out(), columns=[\"TF-IDF\"])\n",
    "    x = df.sort_values(\"TF-IDF\", ascending=False).head(3)\n",
    "    print(titles[i])\n",
    "    print(\"=============\")\n",
    "    print(x)\n",
    "    print(\"=============\")\n",
    "\n",
    "## TODO: genres not appearing as often as I would like... maybe the tf-idf value should then always be 1 for those tokens?"
   ]
  },
  {
   "cell_type": "code",
   "execution_count": 10,
   "metadata": {},
   "outputs": [],
   "source": [
    "from sklearn.metrics.pairwise import cosine_similarity\n",
    "\n",
    "# similarity matrix\n",
    "sim = cosine_similarity(tf_idf)"
   ]
  },
  {
   "cell_type": "code",
   "execution_count": 11,
   "metadata": {},
   "outputs": [
    {
     "name": "stdout",
     "output_type": "stream",
     "text": [
      "Top 3 similar movies to Ex Machina\n",
      "====================================\n",
      "- A Simple Curve (sim: 0.290768953558932)\n",
      "- Fireproof (sim: 0.2540251619239815)\n",
      "- Truth (sim: 0.24701012909830583)\n",
      "====================================\n",
      "Top 3 similar movies to The Shawshank Redemption\n",
      "====================================\n",
      "- They Made Me a Fugitive (sim: 0.1387145742623922)\n",
      "- The Domino Principle (sim: 0.13345915893312696)\n",
      "- Brubaker (sim: 0.1321365322724463)\n",
      "====================================\n",
      "Top 3 similar movies to Prometheus\n",
      "====================================\n",
      "- AE: Apocalypse Earth (sim: 0.22173645595530667)\n",
      "- Star Trek: The Motion Picture (sim: 0.1930698473551296)\n",
      "- Toward the Terra (sim: 0.18214594610512744)\n",
      "====================================\n",
      "Top 3 similar movies to The Dark Knight\n",
      "====================================\n",
      "- The Dark Knight Rises (sim: 0.40714367708047183)\n",
      "- Batman Unmasked: The Psychology of the Dark Knight (sim: 0.35765476609403063)\n",
      "- Batman Returns (sim: 0.347335569977196)\n",
      "====================================\n"
     ]
    }
   ],
   "source": [
    "for i in movie_indices:\n",
    "    top_3_indices = list(sim[i].argsort()[::-1][1:4])\n",
    "    print(f\"Top 3 similar movies to {titles[i]}\")\n",
    "    print(\"====================================\")\n",
    "    for j in top_3_indices:\n",
    "        print(f\"- {titles[j]} (sim: {sim[i,j]})\")\n",
    "    print(\"====================================\") \n",
    "        "
   ]
  }
 ],
 "metadata": {
  "interpreter": {
   "hash": "aee8b7b246df8f9039afb4144a1f6fd8d2ca17a180786b69acc140d282b71a49"
  },
  "kernelspec": {
   "display_name": "Python 3.9.10 64-bit",
   "language": "python",
   "name": "python3"
  },
  "language_info": {
   "codemirror_mode": {
    "name": "ipython",
    "version": 3
   },
   "file_extension": ".py",
   "mimetype": "text/x-python",
   "name": "python",
   "nbconvert_exporter": "python",
   "pygments_lexer": "ipython3",
   "version": "3.9.5"
  },
  "orig_nbformat": 4
 },
 "nbformat": 4,
 "nbformat_minor": 2
}
