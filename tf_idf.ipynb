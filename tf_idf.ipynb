{
 "cells": [
  {
   "cell_type": "code",
   "execution_count": 1,
   "metadata": {},
   "outputs": [],
   "source": [
    "import pandas as pd\n",
    "import numpy as np\n",
    "\n",
    "import matplotlib.pyplot as plt\n",
    "import urllib\n",
    "\n",
    "from sklearn.feature_extraction.text import TfidfVectorizer\n",
    "from sklearn.metrics.pairwise import cosine_similarity\n",
    "\n",
    "import utils"
   ]
  },
  {
   "cell_type": "code",
   "execution_count": 2,
   "metadata": {},
   "outputs": [
    {
     "name": "stdout",
     "output_type": "stream",
     "text": [
      "Summary of dataset\n",
      "Size: 32269\n",
      "First 10 rows of corpus:\n",
      "\n",
      "0    [led, woody, andy's, toy, live, happily, room,...\n",
      "1    [sibling, judy, peter, discover, enchanted, bo...\n",
      "2    [family, wedding, reignites, ancient, feud, ne...\n",
      "3    [cheated, mistreated, stepped, woman, holding,...\n",
      "4    [george, bank, ha, recovered, daughter's, wedd...\n",
      "5    [obsessive, master, thief, neil, mccauley, lea...\n",
      "6    [ugly, duckling, undergone, remarkable, change...\n",
      "7    [mischievous, young, boy, tom, sawyer, witness...\n",
      "8    [international, action, superstar, jean, claud...\n",
      "9    [james, bond, must, unmask, mysterious, head, ...\n",
      "Name: corpus, dtype: object\n"
     ]
    }
   ],
   "source": [
    "movies_by_language = utils.get_dataset(\n",
    "    feature_cols=['overview', 'title', 'tagline', 'processed_genres'], \n",
    "    parse_genres=True\n",
    ")\n",
    "\n",
    "overviews = movies_by_language[\"overview\"].tolist()\n",
    "titles = movies_by_language[\"title\"].tolist()\n",
    "poster_paths = movies_by_language[\"poster_path\"].tolist()\n",
    "\n",
    "corpus = movies_by_language[\"corpus\"].tolist()"
   ]
  },
  {
   "cell_type": "code",
   "execution_count": 4,
   "metadata": {},
   "outputs": [],
   "source": [
    "# Build vocab\n",
    "vocab  = []\n",
    "tf_idf_corpus = []\n",
    "\n",
    "for movie in corpus:\n",
    "    tf_idf_corpus.append(\" \".join(movie))\n",
    "    \n",
    "    for word in movie:\n",
    "        if word not in vocab:\n",
    "            vocab.append(word)"
   ]
  },
  {
   "cell_type": "code",
   "execution_count": 5,
   "metadata": {},
   "outputs": [],
   "source": [
    "tf_idf_vec = TfidfVectorizer(lowercase=False, stop_words=None, vocabulary=vocab, smooth_idf=True, use_idf=True)\n",
    "tf_idf     = tf_idf_vec.fit_transform(tf_idf_corpus)"
   ]
  },
  {
   "cell_type": "code",
   "execution_count": 8,
   "metadata": {},
   "outputs": [],
   "source": [
    "movie_titles  = [\"Ex Machina\", \"The Shawshank Redemption\", \"Prometheus\", \"The Dark Knight\"]\n",
    "movie_indices = [titles.index(t) for t in movie_titles]\n",
    "\n",
    "# similarity matrix\n",
    "sim = cosine_similarity(tf_idf)"
   ]
  },
  {
   "cell_type": "code",
   "execution_count": 10,
   "metadata": {},
   "outputs": [
    {
     "name": "stdout",
     "output_type": "stream",
     "text": [
      "Top 3 similar movies to Ex Machina\n",
      "====================================\n",
      "- A Simple Curve (sim: 0.2015577195265747)\n",
      "- Fireproof (sim: 0.17949405270361088)\n",
      "- Truth (sim: 0.17319993534900155)\n",
      "====================================\n",
      "\n",
      "\n",
      "\n",
      "Top 3 similar movies to The Shawshank Redemption\n",
      "====================================\n",
      "- They Made Me a Fugitive (sim: 0.1836285344575686)\n",
      "- Prison (sim: 0.1730095466041786)\n",
      "- Brubaker (sim: 0.15818306461108986)\n",
      "====================================\n",
      "\n",
      "\n",
      "\n",
      "Top 3 similar movies to Prometheus\n",
      "====================================\n",
      "- This Island Earth (sim: 0.22951591499665483)\n",
      "- Iron Sky: The Coming Race (sim: 0.21371878039854103)\n",
      "- AE: Apocalypse Earth (sim: 0.20562306852564713)\n",
      "====================================\n",
      "\n",
      "\n",
      "\n",
      "Top 3 similar movies to The Dark Knight\n",
      "====================================\n",
      "- The Dark Knight Rises (sim: 0.40329763186101514)\n",
      "- Batman Begins (sim: 0.30032423665375285)\n",
      "- Batman Beyond: Return of the Joker (sim: 0.2978930923947234)\n",
      "====================================\n",
      "\n",
      "\n",
      "\n"
     ]
    }
   ],
   "source": [
    "for i in movie_indices:\n",
    "    top_3_indices = list(sim[i].argsort()[::-1][1:4])\n",
    "    print(f\"Top 3 similar movies to {titles[i]}\")\n",
    "    print(\"====================================\")\n",
    "    for j in top_3_indices:\n",
    "        print(f\"- {titles[j]} (sim: {sim[i,j]})\")\n",
    "    print(\"====================================\")\n",
    "    print(\"\\n\\n\")"
   ]
  }
 ],
 "metadata": {
  "interpreter": {
   "hash": "ce93d1a4f56540fabf8f1c76c3aa6cf9757ad5e7d65f9c94603a0a68aa2226c4"
  },
  "kernelspec": {
   "display_name": "Python 3.9.9 ('.venv': venv)",
   "language": "python",
   "name": "python3"
  },
  "language_info": {
   "codemirror_mode": {
    "name": "ipython",
    "version": 3
   },
   "file_extension": ".py",
   "mimetype": "text/x-python",
   "name": "python",
   "nbconvert_exporter": "python",
   "pygments_lexer": "ipython3",
   "version": "3.9.9"
  },
  "orig_nbformat": 4
 },
 "nbformat": 4,
 "nbformat_minor": 2
}
